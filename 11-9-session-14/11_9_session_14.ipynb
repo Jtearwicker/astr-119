{
 "cells": [
  {
   "cell_type": "markdown",
   "metadata": {},
   "source": [
    "#### Coupled Ordinary DE's and Orbital Mechanics"
   ]
  },
  {
   "cell_type": "code",
   "execution_count": 1,
   "metadata": {},
   "outputs": [],
   "source": [
    "%matplotlib inline\n",
    "import matplotlib.pyplot as plt\n",
    "plt.style.use('dark_background')\n",
    "import numpy as np"
   ]
  },
  {
   "cell_type": "code",
   "execution_count": 3,
   "metadata": {},
   "outputs": [],
   "source": [
    "class planet():\n",
    "    \"A planet in our solar system\"\n",
    "    def __init__(self,semimajor,eccentricity):\n",
    "        self.x = np.array(2) #x and y position\n",
    "        self.v = np.array(2) #x and y velocity\n",
    "        self.a_g = np.array(2) #x and y acceleration\n",
    "        self.t = 0.0 #current time\n",
    "        self.dt = 0.0 #current timestep\n",
    "        self.a = semimajor #semimajor axis of the orbit\n",
    "        self.e = eccentricity #eccentricity of the orbit\n",
    "        self.istep = 0 #current integrer "
   ]
  },
  {
   "cell_type": "code",
   "execution_count": 4,
   "metadata": {},
   "outputs": [],
   "source": [
    "solar_system = {\"M_sun\":1.0, \"G\":39.4784176043574320}"
   ]
  },
  {
   "cell_type": "code",
   "execution_count": 5,
   "metadata": {},
   "outputs": [],
   "source": [
    "def solar_circular_velocity(p,solar_system):\n",
    "    G = solar_system[\"G\"]\n",
    "    M = solar_system[\"M_sun\"]\n",
    "    r = (p.x[0]**2+p.x[1]**2)**0.5\n",
    "    \n",
    "    return (G*M/r)**0.5"
   ]
  },
  {
   "cell_type": "code",
   "execution_count": 7,
   "metadata": {},
   "outputs": [],
   "source": [
    "def solar_gravitational_acceleration(p, solar_system):\n",
    "    G = solar_system[\"G\"]\n",
    "    M = solar_system[\"M_sun\"]\n",
    "    r = (p.x[0]**2+p.x[1]**2)**0.5\n",
    "    \n",
    "    #acceleration in AU/yr/yr\n",
    "    a_grav = -1.0*G*M/r**2\n",
    "    \n",
    "    #find the angle at this position\n",
    "    if(p.x[0]==0.0):\n",
    "        if(p.x[1]>0.0):\n",
    "            theta = 0.5*np.pi\n",
    "        else:\n",
    "            theta = 1.5*np.pi\n",
    "    else:\n",
    "        theta = np.atan(p.x[1], p.x[0])\n",
    "    \n",
    "    #set the x and y components of the velocity\n",
    "    p.a_g[0] = a_grav * np.cos(theta)\n",
    "    p.a_g[1] = a_grav * np.sin(theta)"
   ]
  },
  {
   "cell_type": "code",
   "execution_count": 8,
   "metadata": {},
   "outputs": [],
   "source": [
    "def calc_dt(p):\n",
    "    ETA_TIME_STEP = 0.0004\n",
    "    eta = ETA_TIME_STEP\n",
    "    v = (p.v[0]**2+p.v[1]**2)**0.5\n",
    "    a = (p.a_g[0]**2+p.a_g[1]**2)**0.5\n",
    "    dt = eta * fp.min(1./np.fabs(v),1./fabs(a))\n",
    "    \n",
    "    return dt"
   ]
  },
  {
   "cell_type": "code",
   "execution_count": 9,
   "metadata": {},
   "outputs": [],
   "source": [
    "def SetPlanet(p,i):\n",
    "    AU_in_km = 1.495979e8\n",
    "    \n",
    "    #circular velocity\n",
    "    v_c = 0.0\n",
    "    v_e = 0.0\n",
    "    \n",
    "    #Mercury\n",
    "    if(i==0):\n",
    "        p.a = 57909227.0 / AU_in_km\n",
    "        p.e = 0.20563593 / AU_in_km\n",
    "    #Venus    \n",
    "    elif(i==1):\n",
    "        p.a = 108209475.0 / AU_in_km\n",
    "        p.e = 0.00677672 / AU_in_km\n",
    "    #Earth\n",
    "    elif(i==2):\n",
    "        p.a = 1.0 / AU_in_km\n",
    "        p.e = 0.01671123 / AU_in_km  \n",
    "    #set remaining properties\n",
    "    p.t = 0.0\n",
    "    p.x[0] = p.a*(1.0-p.e)\n",
    "    p.x[1] = 0.0\n",
    "    #get equiv circular velocity\n",
    "    v_c = solar_circular_velocity(p, solar_system)\n",
    "    #velocity at perihelion\n",
    "    v_e = v_c*(1+p.e)**0.5\n",
    "    #set velocity\n",
    "    p.v[0] = 0.0 #no x velocity at perihelion\n",
    "    p.v[1] = v_e #y velocity at perihelion (ccw)\n",
    "    #calc grav accel from Sun\n",
    "    solar_gravitational_acceleration(p)\n",
    "    #set timestep\n",
    "    p.dt = calc_dt(p)"
   ]
  },
  {
   "cell_type": "code",
   "execution_count": 11,
   "metadata": {},
   "outputs": [],
   "source": [
    "def x_first_step(x_i, v_i, a_i, dt):\n",
    "    return x_i + 0.5*v_i*dt + 0.25*a_i*dt**2"
   ]
  },
  {
   "cell_type": "code",
   "execution_count": 12,
   "metadata": {},
   "outputs": [],
   "source": [
    "def v_full_step(x_i, v_i, a_ipoh, dt):\n",
    "    return v_i + a_ipoh*dt;"
   ]
  },
  {
   "cell_type": "code",
   "execution_count": 13,
   "metadata": {},
   "outputs": [],
   "source": [
    "def x_full_step(x_ipoh, v_ip1, a_ipoh, dt):\n",
    "    return x_ipoh + v_ip1*dt"
   ]
  },
  {
   "cell_type": "code",
   "execution_count": null,
   "metadata": {},
   "outputs": [],
   "source": []
  }
 ],
 "metadata": {
  "kernelspec": {
   "display_name": "Python 3",
   "language": "python",
   "name": "python3"
  },
  "language_info": {
   "codemirror_mode": {
    "name": "ipython",
    "version": 3
   },
   "file_extension": ".py",
   "mimetype": "text/x-python",
   "name": "python",
   "nbconvert_exporter": "python",
   "pygments_lexer": "ipython3",
   "version": "3.8.5"
  }
 },
 "nbformat": 4,
 "nbformat_minor": 4
}
