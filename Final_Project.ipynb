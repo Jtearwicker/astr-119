{
 "cells": [
  {
   "cell_type": "code",
   "execution_count": null,
   "id": "90461abd",
   "metadata": {
    "ExecuteTime": {
     "end_time": "2021-12-07T03:28:06.394521Z",
     "start_time": "2021-12-07T03:28:05.616600Z"
    }
   },
   "outputs": [],
   "source": [
    "import numpy as np\n",
    "import sep\n",
    "import astropy\n",
    "from astropy.io import fits\n",
    "import matplotlib.pyplot as plt\n",
    "from matplotlib import rcParams\n",
    "%matplotlib inline\n",
    "rcParams['figure.figsize'] = [10., 8.]\n",
    "plt.style.use('dark_background')"
   ]
  },
  {
   "cell_type": "code",
   "execution_count": null,
   "id": "8c2f5ac4",
   "metadata": {
    "ExecuteTime": {
     "end_time": "2021-12-07T03:28:06.426435Z",
     "start_time": "2021-12-07T03:28:06.397513Z"
    }
   },
   "outputs": [],
   "source": [
    "# read image into standard 2-d numpy array\n",
    "#hdu_list = fits.open(\"C:\\\\Users\\\\jtear\\\\Downloads\\\\image.fits\")\n",
    "hdu_list = fits.open(\"C:\\\\Users\\\\jtear\\\\Downloads\\\\image.fits\")\n",
    "data = hdu_list[0].data\n",
    "hdu_list.info()"
   ]
  },
  {
   "cell_type": "code",
   "execution_count": null,
   "id": "fc08b991",
   "metadata": {
    "ExecuteTime": {
     "end_time": "2021-12-07T03:28:06.647915Z",
     "start_time": "2021-12-07T03:28:06.427432Z"
    }
   },
   "outputs": [],
   "source": [
    "# show the image\n",
    "m, s = np.mean(data), np.std(data)\n",
    "plt.imshow(data, interpolation='nearest', cmap='gray', vmin=m-s, vmax=m+s, origin='lower')\n",
    "plt.colorbar();"
   ]
  },
  {
   "cell_type": "code",
   "execution_count": null,
   "id": "f4e7e11c",
   "metadata": {
    "ExecuteTime": {
     "end_time": "2021-12-07T03:28:06.663904Z",
     "start_time": "2021-12-07T03:28:06.648913Z"
    }
   },
   "outputs": [],
   "source": [
    "# measure a spatially varying background on the image\n",
    "bkg = sep.Background(data)"
   ]
  },
  {
   "cell_type": "code",
   "execution_count": null,
   "id": "b7fff785",
   "metadata": {
    "ExecuteTime": {
     "end_time": "2021-12-07T03:28:06.679861Z",
     "start_time": "2021-12-07T03:28:06.664899Z"
    }
   },
   "outputs": [],
   "source": [
    "# get a \"global\" mean and noise of the image background:\n",
    "print(bkg.globalback)\n",
    "print(bkg.globalrms)"
   ]
  },
  {
   "cell_type": "code",
   "execution_count": null,
   "id": "bc0093f1",
   "metadata": {
    "ExecuteTime": {
     "end_time": "2021-12-07T03:28:06.695818Z",
     "start_time": "2021-12-07T03:28:06.680857Z"
    }
   },
   "outputs": [],
   "source": [
    "# evaluate background as 2-d array, same size as original image\n",
    "bkg_image = bkg.back()\n",
    "# bkg_image = np.array(bkg) # equivalent to above"
   ]
  },
  {
   "cell_type": "code",
   "execution_count": null,
   "id": "d0af980f",
   "metadata": {
    "ExecuteTime": {
     "end_time": "2021-12-07T03:28:06.881323Z",
     "start_time": "2021-12-07T03:28:06.697811Z"
    }
   },
   "outputs": [],
   "source": [
    "# show the background\n",
    "plt.imshow(bkg_image, interpolation='nearest', cmap='gray', origin='lower')\n",
    "plt.colorbar();"
   ]
  },
  {
   "cell_type": "code",
   "execution_count": null,
   "id": "538d0e24",
   "metadata": {
    "ExecuteTime": {
     "end_time": "2021-12-07T03:28:06.896283Z",
     "start_time": "2021-12-07T03:28:06.882621Z"
    }
   },
   "outputs": [],
   "source": [
    "# evaluate the background noise as 2-d array, same size as original image\n",
    "bkg_rms = bkg.rms()"
   ]
  },
  {
   "cell_type": "code",
   "execution_count": null,
   "id": "b8efdfc2",
   "metadata": {
    "ExecuteTime": {
     "end_time": "2021-12-07T03:28:07.080788Z",
     "start_time": "2021-12-07T03:28:06.897279Z"
    }
   },
   "outputs": [],
   "source": [
    "# show the background noise\n",
    "plt.imshow(bkg_rms, interpolation='nearest', cmap='gray', origin='lower')\n",
    "plt.colorbar();"
   ]
  },
  {
   "cell_type": "code",
   "execution_count": null,
   "id": "01773c55",
   "metadata": {
    "ExecuteTime": {
     "end_time": "2021-12-07T03:28:07.096747Z",
     "start_time": "2021-12-07T03:28:07.081785Z"
    }
   },
   "outputs": [],
   "source": [
    "# subtract the background\n",
    "data_sub = data - bkg"
   ]
  },
  {
   "cell_type": "code",
   "execution_count": null,
   "id": "8f0e1dce",
   "metadata": {
    "ExecuteTime": {
     "end_time": "2021-12-07T03:28:07.111705Z",
     "start_time": "2021-12-07T03:28:07.097744Z"
    }
   },
   "outputs": [],
   "source": [
    "objects = sep.extract(data_sub, 1.5, err=bkg.globalrms)"
   ]
  },
  {
   "cell_type": "code",
   "execution_count": null,
   "id": "ff4bc346",
   "metadata": {
    "ExecuteTime": {
     "end_time": "2021-12-07T03:28:07.126666Z",
     "start_time": "2021-12-07T03:28:07.112704Z"
    }
   },
   "outputs": [],
   "source": [
    "# how many objects were detected\n",
    "len(objects)"
   ]
  },
  {
   "cell_type": "code",
   "execution_count": null,
   "id": "dc6b3fe1",
   "metadata": {
    "ExecuteTime": {
     "end_time": "2021-12-07T03:28:07.516134Z",
     "start_time": "2021-12-07T03:28:07.127663Z"
    }
   },
   "outputs": [],
   "source": [
    "from matplotlib.patches import Ellipse\n",
    "\n",
    "# plot background-subtracted image\n",
    "fig, ax = plt.subplots()\n",
    "m, s = np.mean(data_sub), np.std(data_sub)\n",
    "im = ax.imshow(data_sub, interpolation='nearest', cmap='gray',\n",
    "               vmin=m-s, vmax=m+s, origin='lower')\n",
    "\n",
    "# plot an ellipse for each object\n",
    "for i in range(len(objects)):\n",
    "    e = Ellipse(xy=(objects['x'][i], objects['y'][i]),\n",
    "                width=6*objects['a'][i],\n",
    "                height=6*objects['b'][i],\n",
    "                angle=objects['theta'][i] * 180. / np.pi)\n",
    "    e.set_facecolor('none')\n",
    "    e.set_edgecolor('red')\n",
    "    ax.add_artist(e)"
   ]
  },
  {
   "cell_type": "code",
   "execution_count": null,
   "id": "b73f8168",
   "metadata": {
    "ExecuteTime": {
     "end_time": "2021-12-07T03:28:07.532091Z",
     "start_time": "2021-12-07T03:28:07.517131Z"
    }
   },
   "outputs": [],
   "source": [
    "# available fields\n",
    "objects.dtype.names"
   ]
  },
  {
   "cell_type": "code",
   "execution_count": null,
   "id": "d1b3292f",
   "metadata": {
    "ExecuteTime": {
     "end_time": "2021-12-07T03:28:07.547563Z",
     "start_time": "2021-12-07T03:28:07.533089Z"
    }
   },
   "outputs": [],
   "source": [
    "flux, fluxerr, flag = sep.sum_circle(data_sub, objects['x'], objects['y'], 3.0, err=bkg.globalrms, gain=1.0)"
   ]
  },
  {
   "cell_type": "code",
   "execution_count": null,
   "id": "52a612cd",
   "metadata": {
    "ExecuteTime": {
     "end_time": "2021-12-07T03:28:07.563518Z",
     "start_time": "2021-12-07T03:28:07.548558Z"
    }
   },
   "outputs": [],
   "source": [
    "# show the first 10 objects results:\n",
    "for i in range(10):\n",
    "    print(\"object {:d}: flux = {:f} +/- {:f}\".format(i, flux[i], fluxerr[i]))"
   ]
  },
  {
   "cell_type": "code",
   "execution_count": null,
   "id": "edb36135",
   "metadata": {},
   "outputs": [],
   "source": []
  }
 ],
 "metadata": {
  "kernelspec": {
   "display_name": "Python 3",
   "language": "python",
   "name": "python3"
  },
  "language_info": {
   "codemirror_mode": {
    "name": "ipython",
    "version": 3
   },
   "file_extension": ".py",
   "mimetype": "text/x-python",
   "name": "python",
   "nbconvert_exporter": "python",
   "pygments_lexer": "ipython3",
   "version": "3.8.8"
  }
 },
 "nbformat": 4,
 "nbformat_minor": 5
}
