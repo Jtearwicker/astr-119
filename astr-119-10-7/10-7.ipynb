{
 "cells": [
  {
   "cell_type": "code",
   "execution_count": null,
   "id": "f2e806e9",
   "metadata": {
    "ExecuteTime": {
     "end_time": "2021-10-07T18:07:30.546438Z",
     "start_time": "2021-10-07T18:07:29.889634Z"
    }
   },
   "outputs": [],
   "source": [
    "import numpy as np\n",
    "import matplotlib.pyplot as plt"
   ]
  },
  {
   "cell_type": "code",
   "execution_count": null,
   "id": "3c45d179",
   "metadata": {
    "ExecuteTime": {
     "end_time": "2021-10-07T18:07:34.293645Z",
     "start_time": "2021-10-07T18:07:34.274695Z"
    }
   },
   "outputs": [],
   "source": [
    "n = 10  #define an int\n",
    "x = np.arange(n, dtype=float)  #define an array"
   ]
  },
  {
   "cell_type": "code",
   "execution_count": null,
   "id": "77de9784",
   "metadata": {
    "ExecuteTime": {
     "end_time": "2021-10-07T18:07:36.907677Z",
     "start_time": "2021-10-07T18:07:36.888727Z"
    }
   },
   "outputs": [],
   "source": [
    "print(x)"
   ]
  },
  {
   "cell_type": "code",
   "execution_count": null,
   "id": "704c3a68",
   "metadata": {},
   "outputs": [],
   "source": []
  },
  {
   "cell_type": "code",
   "execution_count": null,
   "id": "90f982ac",
   "metadata": {},
   "outputs": [],
   "source": []
  }
 ],
 "metadata": {
  "kernelspec": {
   "display_name": "Python 3",
   "language": "python",
   "name": "python3"
  },
  "language_info": {
   "codemirror_mode": {
    "name": "ipython",
    "version": 3
   },
   "file_extension": ".py",
   "mimetype": "text/x-python",
   "name": "python",
   "nbconvert_exporter": "python",
   "pygments_lexer": "ipython3",
   "version": "3.8.8"
  }
 },
 "nbformat": 4,
 "nbformat_minor": 5
}
