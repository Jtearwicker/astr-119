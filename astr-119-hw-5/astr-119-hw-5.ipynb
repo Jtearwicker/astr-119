{
 "cells": [
  {
   "cell_type": "markdown",
   "metadata": {},
   "source": [
    "# Astronomy 119 Homework 5"
   ]
  },
  {
   "cell_type": "code",
   "execution_count": null,
   "metadata": {
    "ExecuteTime": {
     "end_time": "2021-11-04T05:52:37.171172Z",
     "start_time": "2021-11-04T05:52:37.153213Z"
    }
   },
   "outputs": [],
   "source": [
    "%matplotlib inline\n",
    "import numpy as np\n",
    "import matplotlib.pyplot as plt\n",
    "\n",
    "plt.style.use('dark_background')"
   ]
  },
  {
   "cell_type": "markdown",
   "metadata": {},
   "source": [
    "#### Trapezoidal method, Simpson's rule, and Romberg integration"
   ]
  },
  {
   "cell_type": "code",
   "execution_count": null,
   "metadata": {
    "ExecuteTime": {
     "end_time": "2021-11-04T05:52:37.186126Z",
     "start_time": "2021-11-04T05:52:37.172162Z"
    }
   },
   "outputs": [],
   "source": [
    "def func(x):\n",
    "    a = -2.0\n",
    "    b = 10\n",
    "    return (np.e**(a * x)) * (np.cos(b * x))"
   ]
  },
  {
   "cell_type": "code",
   "execution_count": null,
   "metadata": {
    "ExecuteTime": {
     "end_time": "2021-11-04T05:52:37.202084Z",
     "start_time": "2021-11-04T05:52:37.187122Z"
    }
   },
   "outputs": [],
   "source": [
    "def func_integral(x):\n",
    "    a = -2.0\n",
    "    b = 10.0\n",
    "    return ((np.exp(a*x)*(5*np.sin(b*x)-np.cos(b*x)))/52)"
   ]
  },
  {
   "cell_type": "code",
   "execution_count": null,
   "metadata": {
    "ExecuteTime": {
     "end_time": "2021-11-04T05:52:37.217044Z",
     "start_time": "2021-11-04T05:52:37.203079Z"
    }
   },
   "outputs": [],
   "source": [
    "def trapezoid_core(f, x, h):\n",
    "    return 0.5 * h * ((f(x + h)) + f(x))"
   ]
  },
  {
   "cell_type": "code",
   "execution_count": null,
   "metadata": {
    "ExecuteTime": {
     "end_time": "2021-11-04T05:52:37.232004Z",
     "start_time": "2021-11-04T05:52:37.218039Z"
    }
   },
   "outputs": [],
   "source": [
    "def trapezoid_method(f, a, b, N):\n",
    "    #f is function to integrate\n",
    "    #a is left side\n",
    "    #b is right side\n",
    "    #N is number of intervals\n",
    "\n",
    "    #define x values on our grid\n",
    "    x = np.linspace(a, b, N)\n",
    "    h = x[1] - x[0]\n",
    "\n",
    "    #define the integral\n",
    "    Fint = 0.0\n",
    "\n",
    "    #perform the integral\n",
    "    for i in range(0, len(x) - 1, 1):\n",
    "        Fint += trapezoid_core(f, x[i], h)\n",
    "\n",
    "    return Fint"
   ]
  },
  {
   "cell_type": "markdown",
   "metadata": {},
   "source": [
    "#### Define the core of Simpson's method"
   ]
  },
  {
   "cell_type": "code",
   "execution_count": null,
   "metadata": {
    "ExecuteTime": {
     "end_time": "2021-11-04T05:52:37.246962Z",
     "start_time": "2021-11-04T05:52:37.232999Z"
    }
   },
   "outputs": [],
   "source": [
    "def simpson_core(f, x, h):\n",
    "    return h * (f(x) + 4 * f(x + h) + f(x + 2 * h)) / 3"
   ]
  },
  {
   "cell_type": "markdown",
   "metadata": {},
   "source": [
    "#### Define a wrapper function for simpson's method"
   ]
  },
  {
   "cell_type": "code",
   "execution_count": null,
   "metadata": {
    "ExecuteTime": {
     "end_time": "2021-11-04T05:52:37.262921Z",
     "start_time": "2021-11-04T05:52:37.247960Z"
    }
   },
   "outputs": [],
   "source": [
    "#define a wrapper for simposons rule\n",
    "def simpson_method(f, a, b, N):\n",
    "    #f is function to integrate\n",
    "    #a is lower limit\n",
    "    #b is upper limit\n",
    "    #N is number of function evaluations to use\n",
    "\n",
    "    #define x values to perform trapezoid rule\n",
    "    x = np.linspace(a, b, N)\n",
    "    h = x[1] - x[0]\n",
    "\n",
    "    #define the value of the integral\n",
    "    Fint = 0.0\n",
    "\n",
    "    #perform the integral using simpsons method\n",
    "    for i in range(0, len(x) - 2, 2):\n",
    "        Fint += simpson_core(f, x[i], h)\n",
    "\n",
    "        if ((N % 2) == 0):\n",
    "            Fint += simpson_core(f, x[-2], 0.5 * h)\n",
    "\n",
    "    return Fint"
   ]
  },
  {
   "cell_type": "markdown",
   "metadata": {},
   "source": [
    "Define Romberg core"
   ]
  },
  {
   "cell_type": "code",
   "execution_count": null,
   "metadata": {
    "ExecuteTime": {
     "end_time": "2021-11-04T05:52:37.277879Z",
     "start_time": "2021-11-04T05:52:37.263917Z"
    }
   },
   "outputs": [],
   "source": [
    "def romberg_core(f, a, b, i):\n",
    "    #difference between b and a\n",
    "    h = b - a\n",
    "\n",
    "    #and the increment between new func evals\n",
    "    dh = h / 2.**(i)\n",
    "\n",
    "    #cofactor\n",
    "    K = h / 2.**(i + 1)\n",
    "\n",
    "    #function evaluations\n",
    "    M = 0.0\n",
    "    for j in range(2**i):\n",
    "        M += f(a + 0.5 * dh + j * dh)\n",
    "\n",
    "    return K * M"
   ]
  },
  {
   "cell_type": "markdown",
   "metadata": {},
   "source": [
    "Define a wrapper function"
   ]
  },
  {
   "cell_type": "code",
   "execution_count": null,
   "metadata": {
    "ExecuteTime": {
     "end_time": "2021-11-04T05:52:37.293837Z",
     "start_time": "2021-11-04T05:52:37.278877Z"
    }
   },
   "outputs": [],
   "source": [
    "def romberg_integration(f, a, b, tol):\n",
    "    #define an iteration variable\n",
    "    i = 0\n",
    "\n",
    "    #define a max number of iterations\n",
    "    imax = 1000\n",
    "\n",
    "    #define an error estimate\n",
    "    delta = 100.0 * np.fabs(tol)\n",
    "\n",
    "    #set an array of integral answers\n",
    "    I = np.zeros(imax, dtype=float)\n",
    "\n",
    "    #get the zeroth romberg iteration first\n",
    "    I[0] = 0.5 * (b - a) * (f(a) + f(b))\n",
    "\n",
    "    #iterate by 1\n",
    "    i += 1\n",
    "\n",
    "    #iterate until we reach tolerance\n",
    "    while (delta > tol):\n",
    "        #find this romberg integration\n",
    "        I[i] = 0.5 * I[i - 1] + romberg_core(f, a, b, i)\n",
    "\n",
    "        #compute a fractional error estimate\n",
    "        delta = np.fabs((I[i] - I[i - 1]) / I[i])\n",
    "\n",
    "        #print(i, I[i], I[i - 1], delta)\n",
    "\n",
    "        if (delta > tol):\n",
    "            i += 1\n",
    "            if (i > imax):\n",
    "                print(\"Max iterations reached.\")\n",
    "                raise StopIteration(\"Stopping iterations after \", i)\n",
    "\n",
    "    return I[i]"
   ]
  },
  {
   "cell_type": "markdown",
   "metadata": {},
   "source": [
    "Check the integrals"
   ]
  },
  {
   "cell_type": "code",
   "execution_count": null,
   "metadata": {
    "ExecuteTime": {
     "end_time": "2021-11-04T05:57:42.681578Z",
     "start_time": "2021-11-04T05:55:10.329481Z"
    }
   },
   "outputs": [],
   "source": [
    "ll = 0.0  #lower limit\n",
    "ul = np.pi  #upper limit\n",
    "\n",
    "Answer = func_integral(ul) - func_integral(ll)\n",
    "print(\"Analytical answer = \", Answer)\n",
    "N_trap = 1000\n",
    "print(\"Trapezoid method = \", trapezoid_method(func, ll, ul, N_trap), \"using \",\n",
    "      N_trap, \"intervals\")\n",
    "N_simp = 1000\n",
    "print(\"Simpson's method = \", simpson_method(func, ll, ul, N_simp), \"using \",\n",
    "      N_simp, \"intervals\")\n",
    "tolerance = 1.0e-6\n",
    "RI = romberg_integration(func, ll, ul, tolerance)\n",
    "print(\"Romberg = \", RI, \" with tolerance = \", tolerance)"
   ]
  },
  {
   "cell_type": "code",
   "execution_count": null,
   "metadata": {},
   "outputs": [],
   "source": []
  }
 ],
 "metadata": {
  "kernelspec": {
   "display_name": "Python 3",
   "language": "python",
   "name": "python3"
  },
  "language_info": {
   "codemirror_mode": {
    "name": "ipython",
    "version": 3
   },
   "file_extension": ".py",
   "mimetype": "text/x-python",
   "name": "python",
   "nbconvert_exporter": "python",
   "pygments_lexer": "ipython3",
   "version": "3.8.8"
  }
 },
 "nbformat": 4,
 "nbformat_minor": 4
}
