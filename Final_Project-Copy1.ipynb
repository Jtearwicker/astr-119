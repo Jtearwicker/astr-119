{
 "cells": [
  {
   "cell_type": "code",
   "execution_count": null,
   "id": "90461abd",
   "metadata": {
    "ExecuteTime": {
     "end_time": "2021-12-07T03:48:08.026371Z",
     "start_time": "2021-12-07T03:48:07.260418Z"
    }
   },
   "outputs": [],
   "source": [
    "import numpy as np\n",
    "import sep\n",
    "import astropy\n",
    "from astropy.io import fits\n",
    "import matplotlib.pyplot as plt\n",
    "from matplotlib import rcParams\n",
    "from scipy import ndimage, misc\n",
    "%matplotlib inline\n",
    "rcParams['figure.figsize'] = [10., 8.]\n",
    "plt.style.use('dark_background')"
   ]
  },
  {
   "cell_type": "code",
   "execution_count": null,
   "id": "8c2f5ac4",
   "metadata": {
    "ExecuteTime": {
     "end_time": "2021-12-07T03:48:08.041333Z",
     "start_time": "2021-12-07T03:48:08.027368Z"
    }
   },
   "outputs": [],
   "source": [
    "# read image into standard 2-d numpy array\n",
    "hdu_list = fits.open(\"C:\\\\Users\\\\jtear\\\\Downloads\\\\hlsp_hudf12_hst_wfc3ir_udfmain_f105w_v1.0_drz.fits\")\n",
    "data = hdu_list[0].data\n",
    "hdu_list.info()"
   ]
  },
  {
   "cell_type": "code",
   "execution_count": null,
   "id": "fc08b991",
   "metadata": {
    "ExecuteTime": {
     "end_time": "2021-12-07T03:48:08.499109Z",
     "start_time": "2021-12-07T03:48:08.042328Z"
    }
   },
   "outputs": [],
   "source": [
    "# show the image\n",
    "m, s = np.mean(data), np.std(data)\n",
    "print(m,s)\n",
    "data_rotate\n",
    "plt.imshow(data, interpolation='nearest', cmap='gray', vmin=m-s, vmax=m+s, origin='lower')\n",
    "plt.colorbar();"
   ]
  },
  {
   "cell_type": "code",
   "execution_count": null,
   "id": "f4e7e11c",
   "metadata": {
    "ExecuteTime": {
     "end_time": "2021-12-07T03:48:08.656688Z",
     "start_time": "2021-12-07T03:48:08.500105Z"
    }
   },
   "outputs": [],
   "source": [
    "# measure a spatially varying background on the image\n",
    "data = data.byteswap().newbyteorder()\n",
    "bkg = sep.Background(data)"
   ]
  },
  {
   "cell_type": "code",
   "execution_count": null,
   "id": "b7fff785",
   "metadata": {
    "ExecuteTime": {
     "end_time": "2021-12-07T03:48:08.672646Z",
     "start_time": "2021-12-07T03:48:08.657684Z"
    }
   },
   "outputs": [],
   "source": [
    "# get a \"global\" mean and noise of the image background:\n",
    "print(bkg.globalback)\n",
    "print(bkg.globalrms)"
   ]
  },
  {
   "cell_type": "code",
   "execution_count": null,
   "id": "bc0093f1",
   "metadata": {
    "ExecuteTime": {
     "end_time": "2021-12-07T03:48:08.734478Z",
     "start_time": "2021-12-07T03:48:08.673641Z"
    }
   },
   "outputs": [],
   "source": [
    "# evaluate background as 2-d array, same size as original image\n",
    "bkg_image = bkg.back()\n",
    "# bkg_image = np.array(bkg) # equivalent to above"
   ]
  },
  {
   "cell_type": "code",
   "execution_count": null,
   "id": "d0af980f",
   "metadata": {
    "ExecuteTime": {
     "end_time": "2021-12-07T03:48:09.141409Z",
     "start_time": "2021-12-07T03:48:08.736474Z"
    }
   },
   "outputs": [],
   "source": [
    "# show the background\n",
    "plt.imshow(bkg_image, interpolation='nearest', cmap='gray', origin='lower')\n",
    "plt.colorbar();"
   ]
  },
  {
   "cell_type": "code",
   "execution_count": null,
   "id": "538d0e24",
   "metadata": {
    "ExecuteTime": {
     "end_time": "2021-12-07T03:48:09.205222Z",
     "start_time": "2021-12-07T03:48:09.142388Z"
    }
   },
   "outputs": [],
   "source": [
    "# evaluate the background noise as 2-d array, same size as original image\n",
    "bkg_rms = bkg.rms()"
   ]
  },
  {
   "cell_type": "code",
   "execution_count": null,
   "id": "b8efdfc2",
   "metadata": {
    "ExecuteTime": {
     "end_time": "2021-12-07T03:48:09.641057Z",
     "start_time": "2021-12-07T03:48:09.208214Z"
    }
   },
   "outputs": [],
   "source": [
    "# show the background noise\n",
    "plt.imshow(bkg_rms, interpolation='nearest', cmap='gray', origin='lower')\n",
    "plt.colorbar();"
   ]
  },
  {
   "cell_type": "code",
   "execution_count": null,
   "id": "01773c55",
   "metadata": {
    "ExecuteTime": {
     "end_time": "2021-12-07T03:48:09.734807Z",
     "start_time": "2021-12-07T03:48:09.645046Z"
    }
   },
   "outputs": [],
   "source": [
    "# subtract the background\n",
    "data_sub = data - bkg"
   ]
  },
  {
   "cell_type": "code",
   "execution_count": null,
   "id": "8f0e1dce",
   "metadata": {
    "ExecuteTime": {
     "end_time": "2021-12-07T03:48:19.550574Z",
     "start_time": "2021-12-07T03:48:09.735802Z"
    }
   },
   "outputs": [],
   "source": [
    "objects = sep.extract(data_sub, 1.5, err=bkg.globalrms)"
   ]
  },
  {
   "cell_type": "code",
   "execution_count": null,
   "id": "ff4bc346",
   "metadata": {
    "ExecuteTime": {
     "end_time": "2021-12-07T03:52:00.527999Z",
     "start_time": "2021-12-07T03:52:00.511045Z"
    }
   },
   "outputs": [],
   "source": [
    "# how many objects were detected\n",
    "print(len(objects), 'objects were detected')"
   ]
  },
  {
   "cell_type": "code",
   "execution_count": null,
   "id": "dc6b3fe1",
   "metadata": {
    "ExecuteTime": {
     "end_time": "2021-12-07T03:48:44.930744Z",
     "start_time": "2021-12-07T03:48:19.566529Z"
    }
   },
   "outputs": [],
   "source": [
    "from matplotlib.patches import Ellipse\n",
    "\n",
    "# plot background-subtracted image\n",
    "fig, ax = plt.subplots()\n",
    "m, s = np.mean(data_sub), np.std(data_sub)\n",
    "im = ax.imshow(data_sub, interpolation='nearest', cmap='gray',\n",
    "               vmin=m-s, vmax=m+s, origin='lower')\n",
    "\n",
    "# plot an ellipse for each object\n",
    "for i in range(len(objects)):\n",
    "    e = Ellipse(xy=(objects['x'][i], objects['y'][i]),\n",
    "                width=6*objects['a'][i],\n",
    "                height=6*objects['b'][i],\n",
    "                angle=objects['theta'][i] * 180. / np.pi)\n",
    "    e.set_facecolor('none')\n",
    "    e.set_edgecolor('red')\n",
    "    ax.add_artist(e)"
   ]
  },
  {
   "cell_type": "code",
   "execution_count": null,
   "id": "b73f8168",
   "metadata": {
    "ExecuteTime": {
     "end_time": "2021-12-07T03:48:44.945705Z",
     "start_time": "2021-12-07T03:48:44.936729Z"
    }
   },
   "outputs": [],
   "source": [
    "# available fields\n",
    "objects.dtype.names"
   ]
  },
  {
   "cell_type": "code",
   "execution_count": null,
   "id": "d1b3292f",
   "metadata": {
    "ExecuteTime": {
     "end_time": "2021-12-07T03:48:44.976621Z",
     "start_time": "2021-12-07T03:48:44.947697Z"
    }
   },
   "outputs": [],
   "source": [
    "flux, fluxerr, flag = sep.sum_circle(data_sub, objects['x'], objects['y'], 3.0, err=bkg.globalrms, gain=1.0)"
   ]
  },
  {
   "cell_type": "code",
   "execution_count": null,
   "id": "52a612cd",
   "metadata": {
    "ExecuteTime": {
     "end_time": "2021-12-07T03:48:44.991581Z",
     "start_time": "2021-12-07T03:48:44.977617Z"
    }
   },
   "outputs": [],
   "source": [
    "# show the first 10 objects results:\n",
    "for i in range(10):\n",
    "    print(\"object {:d}: flux = {:f} +/- {:f}\".format(i, flux[i], fluxerr[i]))"
   ]
  },
  {
   "cell_type": "code",
   "execution_count": null,
   "id": "edb36135",
   "metadata": {},
   "outputs": [],
   "source": []
  }
 ],
 "metadata": {
  "kernelspec": {
   "display_name": "Python 3",
   "language": "python",
   "name": "python3"
  },
  "language_info": {
   "codemirror_mode": {
    "name": "ipython",
    "version": 3
   },
   "file_extension": ".py",
   "mimetype": "text/x-python",
   "name": "python",
   "nbconvert_exporter": "python",
   "pygments_lexer": "ipython3",
   "version": "3.8.8"
  }
 },
 "nbformat": 4,
 "nbformat_minor": 5
}
