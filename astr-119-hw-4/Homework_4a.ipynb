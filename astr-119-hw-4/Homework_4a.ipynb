{
 "cells": [
  {
   "cell_type": "code",
   "execution_count": 1,
   "metadata": {},
   "outputs": [],
   "source": [
    "%matplotlib inline\n",
    "import numpy as np\n",
    "import matplotlib.pyplot as plt\n",
    "plt.style.use('dark_background')"
   ]
  },
  {
   "cell_type": "code",
   "execution_count": 2,
   "metadata": {},
   "outputs": [],
   "source": [
    "#define a function to find the roots of\n",
    "def function_for_roots(x):\n",
    "    a=1.01\n",
    "    b=-3.04\n",
    "    c=2.07\n",
    "    return a*x**2+b*x+c"
   ]
  },
  {
   "cell_type": "code",
   "execution_count": 3,
   "metadata": {},
   "outputs": [],
   "source": [
    "#validate our initial bracket\n",
    "def check_initial_value(f,m_min,x_max,tol):\n",
    "    \n",
    "    #check initial guess\n",
    "    y_min=f(x_min)\n",
    "    y_max=f(x_max)\n",
    "    \n",
    "    #check that xmin and xmax bracket a root (multiply to (-))\n",
    "    if(y_min*y_max>0.0):\n",
    "        print(\"No zero crossing found in the range \",x_min,\"to \",x_max)\n",
    "        s=\"f(%f)=%f,f(%f=%f)\" % (x_min,y_min,x_max,y_max)\n",
    "        print(s)\n",
    "        return 0\n",
    "    \n",
    "    #if xmin is a root, then return flag==1\n",
    "    if(np.fabs(y_min)<tol):\n",
    "        return 1\n",
    "    #if xmax is a root, then return flag==2\n",
    "    if(np.fabs(y_max)<tol):\n",
    "        return 2\n",
    "    #if we reach this point, the bracket is valid\n",
    "    return 3"
   ]
  },
  {
   "cell_type": "code",
   "execution_count": 8,
   "metadata": {},
   "outputs": [],
   "source": [
    "def bisection_root_finding(f,x_min_start,x_max_start,tol):\n",
    "    #this fucntion uses bisection search to find a root of f\n",
    "    x_min=x_min_start\n",
    "    x_max=x_max_start\n",
    "    x_mid=0.0\n",
    "    \n",
    "    y_min=f(x_min)\n",
    "    y_max=f(x_max)\n",
    "    y_mid=0.0\n",
    "    \n",
    "    max_iters=10000\n",
    "    i=0\n",
    "    \n",
    "    #check the initial values\n",
    "    flag=check_initial_value(f,x_min,x_max,tol)\n",
    "    \n",
    "    if(flag==0):\n",
    "        print(\"Error in bisection_root_finding\")\n",
    "        raise ValueError(\"Initial values invalid \",x_min,m_max)\n",
    "    elif(flag==1):\n",
    "        #we got lucky\n",
    "        return x_min\n",
    "    elif(flag==2):\n",
    "        return x_max\n",
    "    #if we reach here, then conduct the search \n",
    "    #set a flag\n",
    "    while(flag):\n",
    "        #set our point\n",
    "        x_mid=0.5*(x_min+x_max)\n",
    "        y_mid=f(x_mid)\n",
    "        \n",
    "        #check if x_mid is a root\n",
    "        if(np.fabs(y_mid)<tol):\n",
    "            flag=0\n",
    "            print(\"Number of iterations = \",i)\n",
    "        else:\n",
    "            #x_mid is not a root\n",
    "            #if the product of the function at the midpoint and at one of the \n",
    "            #end points is greater than 0, replace this endpoint\n",
    "            if(f(x_min)*f(x_mid)>0):\n",
    "                #replace x_min with x_mid\n",
    "                x_min=x_mid\n",
    "            else:\n",
    "                #replace x_max with x_mid\n",
    "                x_max=x_mid\n",
    "        #print out the iteration\n",
    "        print(x_min,f(x_min),x_max,f(x_max))\n",
    "\n",
    "        #count the iteration\n",
    "        i+=1\n",
    "\n",
    "        #if we have surpassed max_iters, exit\n",
    "        if(i>=max_iters):\n",
    "            print(\"Exceeded max number of iterations \",i)\n",
    "            s=\"Min bracket f(%f) = %f\" % (x_min,f(x_min))\n",
    "            print(s)\n",
    "            s=\"Max bracket f(%f) = %f\" % (x_max,f(x_max))\n",
    "            print(s)\n",
    "            s=\"Mid bracket f(%f) = %f\" % (x_mid,f(x_mid))\n",
    "            print(s)\n",
    "            raise StopIteration('Stopping iterations after ', i,\" iterations\")\n",
    "\n",
    "    return x_mid"
   ]
  },
  {
   "cell_type": "code",
   "execution_count": 10,
   "metadata": {},
   "outputs": [
    {
     "name": "stdout",
     "output_type": "stream",
     "text": [
      "0.0 2.07\n",
      "1.5 -0.2175000000000007\n",
      "0.75 0.3581249999999996 1.5 -0.2175000000000007\n",
      "0.75 0.3581249999999996 1.125 -0.07171875000000005\n",
      "0.9375 0.10769531249999975 1.125 -0.07171875000000005\n",
      "1.03125 0.009111328124999485 1.125 -0.07171875000000005\n",
      "1.03125 0.009111328124999485 1.078125 -0.033522949218749876\n",
      "1.03125 0.009111328124999485 1.0546875 -0.012760620117187482\n",
      "1.03125 0.009111328124999485 1.04296875 -0.0019633483886720704\n",
      "1.037109375 0.0035393142700193003 1.04296875 -0.0019633483886720704\n",
      "1.0400390625 0.0007793140411376243 1.04296875 -0.0019633483886720704\n",
      "1.0400390625 0.0007793140411376243 1.04150390625 -0.0005941843986509987\n",
      "1.040771484375 9.202301502186927e-05 1.04150390625 -0.0005941843986509987\n",
      "1.040771484375 9.202301502186927e-05 1.0411376953125 -0.0002512161433698701\n",
      "1.040771484375 9.202301502186927e-05 1.04095458984375 -7.963042706249368e-05\n",
      "1.040863037109375 6.1878282573424315e-06 1.04095458984375 -7.963042706249368e-05\n",
      "1.040863037109375 6.1878282573424315e-06 1.0409088134765625 -3.6723415833161965e-05\n",
      "1.040863037109375 6.1878282573424315e-06 1.0408859252929688 -1.5268322895334308e-05\n",
      "1.040863037109375 6.1878282573424315e-06 1.0408744812011719 -4.540379595852073e-06\n",
      "Number of iterations =  17\n",
      "1.040863037109375 6.1878282573424315e-06 1.0408744812011719 -4.540379595852073e-06\n",
      "Root found within y(1.040869) = 0.000001\n"
     ]
    }
   ],
   "source": [
    "x_min=0.0\n",
    "x_max=1.5\n",
    "tolerance=1.0e-6\n",
    "\n",
    "print(x_min,function_for_roots(x_min))\n",
    "print(x_max,function_for_roots(x_max))\n",
    "\n",
    "x_root = bisection_root_finding(function_for_roots,x_min,x_max,tolerance)\n",
    "y_root = function_for_roots(x_root)\n",
    "\n",
    "s=\"Root found within y(%f) = %f\" % (x_root,y_root)\n",
    "print(s)"
   ]
  },
  {
   "cell_type": "code",
   "execution_count": 35,
   "metadata": {},
   "outputs": [
    {
     "data": {
      "text/plain": [
       "(-0.5, 2.1)"
      ]
     },
     "execution_count": 35,
     "metadata": {},
     "output_type": "execute_result"
    },
    {
     "data": {
      "image/png": "[encoded data removed]",
      "text/plain": [
       "<Figure size 432x288 with 1 Axes>"
      ]
     },
     "metadata": {},
     "output_type": "display_data"
    }
   ],
   "source": [
    "x = np.linspace(0, 3, 1000)\n",
    "y = function_for_roots(x)\n",
    "plt.plot(x,y)\n",
    "\n",
    "z=np.zeros(1000)\n",
    "plt.plot(x,z)\n",
    "\n",
    "plt.plot(x_root, y_root)\n",
    "\n",
    "plt.plot(x_min, function_for_roots(x_min))\n",
    "plt.plot(x_max, function_for_roots(x_max))\n",
    "\n",
    "plt.xlim([0,3])\n",
    "plt.ylim([-0.5,2.1])"
   ]
  },
  {
   "cell_type": "code",
   "execution_count": null,
   "metadata": {},
   "outputs": [],
   "source": []
  }
 ],
 "metadata": {
  "kernelspec": {
   "display_name": "Python 3",
   "language": "python",
   "name": "python3"
  },
  "language_info": {
   "codemirror_mode": {
    "name": "ipython",
    "version": 3
   },
   "file_extension": ".py",
   "mimetype": "text/x-python",
   "name": "python",
   "nbconvert_exporter": "python",
   "pygments_lexer": "ipython3",
   "version": "3.8.5"
  }
 },
 "nbformat": 4,
 "nbformat_minor": 4
}
