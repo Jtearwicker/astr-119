{
 "cells": [
  {
   "cell_type": "code",
   "execution_count": null,
   "metadata": {
    "ExecuteTime": {
     "end_time": "2021-11-16T04:04:05.329448Z",
     "start_time": "2021-11-16T04:04:05.039200Z"
    }
   },
   "outputs": [],
   "source": [
    "%matplotlib inline\n",
    "import matplotlib.pyplot as plt\n",
    "import numpy as np\n",
    "plt.style.use('dark_background')"
   ]
  },
  {
   "cell_type": "markdown",
   "metadata": {},
   "source": [
    "RK integration of coupled ODEs"
   ]
  },
  {
   "cell_type": "code",
   "execution_count": null,
   "metadata": {
    "ExecuteTime": {
     "end_time": "2021-11-16T04:04:05.345403Z",
     "start_time": "2021-11-16T04:04:05.330443Z"
    }
   },
   "outputs": [],
   "source": [
    "def dydx(x,y):\n",
    "    #set the derivatives\n",
    "    #our equation d^2y/dx^2=-y\n",
    "    #dy/dx=z\n",
    "    #dz/dx=-y\n",
    "    #set y[0]=y\n",
    "    #set y[1]=z\n",
    "    \n",
    "    #declare an array\n",
    "    y_derivs = np.zeros(2)\n",
    "    #set dydx=z\n",
    "    y_derivs[0] = y[1]\n",
    "    #set dzdx=-y\n",
    "    y_derivs[1] = -1*y[0]\n",
    "    return y_derivs"
   ]
  },
  {
   "cell_type": "markdown",
   "metadata": {},
   "source": [
    "Define the 4th order RK"
   ]
  },
  {
   "cell_type": "code",
   "execution_count": null,
   "metadata": {
    "ExecuteTime": {
     "end_time": "2021-11-16T04:04:05.391282Z",
     "start_time": "2021-11-16T04:04:05.346401Z"
    }
   },
   "outputs": [],
   "source": [
    "def rk4_mv_core(dydx, xi, yi, nv, h):\n",
    "\n",
    "    #declare k arrays\n",
    "    #dydx is function of derivatives\n",
    "    #xi is the value of x at step i\n",
    "    #yi is the array of variables at step i\n",
    "    #nv is ...\n",
    "\n",
    "    k1 = np.zeros(nv)\n",
    "    k2 = np.zeros(nv)\n",
    "    k3 = np.zeros(nv)\n",
    "    k4 = np.zeros(nv)\n",
    "    k5 = np.zeros(nv)\n",
    "    k6 = np.zeros(nv)\n",
    "\n",
    "    C = [0, 1 / 5, 3 / 10, 3 / 5, 1, 7 / 8]\n",
    "    A = [[0, 0, 0, 0, 0], [1 / 5, 0, 0, 0, 0], [3 / 40, 9 / 40, 0, 0, 0],\n",
    "     [3 / 10, -9 / 10, 6 / 5, 0, 0], [-11 / 54, 5 / 2, -70 / 27, 35 / 27, 0],\n",
    "     [1631 / 55296, 175 / 512, 575 / 13824, 44275 / 110592, 253 / 4096]]\n",
    "    B = [37 / 378, 0, 250 / 621, 125 / 594, 0, 512 / 1771]\n",
    "    B2 = [2825 / 27648, 0, 18575 / 48384, 13525 / 55296, 277 / 14336, 1 / 4]\n",
    "\n",
    "    #define x at 1/2 step\n",
    "    x_ipoh = xi + 0.5 * h\n",
    "    #define x at 1 step\n",
    "    x_ipo = xi + h\n",
    "    #declare a temp y array\n",
    "    y_temp = np.zeros(nv)\n",
    "    #get k1 values\n",
    "    y_derivs = dydx(xi, yi)\n",
    "    k1[:] = h * y_derivs[:]\n",
    "\n",
    "    #get k2 values\n",
    "    y_temp[:] = yi[:] + (A[1][0]) * k1[:]\n",
    "    y_derivs = dydx(xi + (C[1]) * h, y_temp)\n",
    "    k2[:] = h * y_derivs[:]\n",
    "\n",
    "    #get k3 values\n",
    "    y_temp[:] = yi[:] + (A[2][0]) * k1[:] + (A[2][1]) * k2[:]\n",
    "    y_derivs = dydx(xi + (C[2]) * h, y_temp)\n",
    "    k3[:] = h * y_derivs[:]\n",
    "\n",
    "    #get k4 values\n",
    "    y_temp[:] = yi[:] + (A[3][0]) * k1[:] + (A[3][1]) * k2[:] + (\n",
    "        A[3][2]) * k3[:]\n",
    "    y_derivs = dydx(xi + (C[3]) * h, y_temp)\n",
    "    k4[:] = h * y_derivs[:]\n",
    "\n",
    "    #k5\n",
    "    y_temp[:] = yi[:] + (A[4][0]) * k1[:] + (A[4][1]) * k2[:] + (\n",
    "        A[4][2]) * k3[:] + (A[4][3]) * k4[:]\n",
    "    y_derivs = dydx(xi + (C[4]) * h, y_temp)\n",
    "    k5[:] = h * y_derivs[:]\n",
    "\n",
    "    #k6\n",
    "    y_temp[:] = yi[:] + (A[5][0]) * k1[:] + (A[5][1]) * k2[:] + (\n",
    "        A[5][2]) * k3[:] + (A[5][3]) * k4[:] + (A[5][4]) * k5[:]\n",
    "    y_derivs = dydx(xi + (C[5]) * h, y_temp)\n",
    "    k6[:] = h * y_derivs[:]\n",
    "\n",
    "    #advance y[:] by a step h\n",
    "    yipo = yi + B[0]*k1[:] + B[1]*k2[:] +B[2]*k3[:] +B[3]*k4[:] +B[5]*k6[:] \n",
    "    ysipo = B2[0]*k1[:] + B2[1]*k2[:] +B2[2]*k3[:] +B2[3]*k4[:] +B2[5]*k6[:] \n",
    "\n",
    "    return yipo"
   ]
  },
  {
   "cell_type": "markdown",
   "metadata": {},
   "source": [
    "Define an adaptive step size driver for RK4"
   ]
  },
  {
   "cell_type": "code",
   "execution_count": null,
   "metadata": {
    "ExecuteTime": {
     "end_time": "2021-11-16T04:04:05.406242Z",
     "start_time": "2021-11-16T04:04:05.392277Z"
    }
   },
   "outputs": [],
   "source": [
    "def rk4_mv_ad(dydx,x_i,y_i,nv,h,tol):\n",
    "    #define a safety scale\n",
    "    SAFETY = 0.9\n",
    "    H_NEW_FAC = 2.0\n",
    "    \n",
    "    #set a max number of iterations\n",
    "    imax = 10000\n",
    "    #set an iteration variable\n",
    "    i = 0\n",
    "    #create an error\n",
    "    Delta = np.full(nv, 2*tol)\n",
    "    #remember the step\n",
    "    h_step = h\n",
    "    #adjust step\n",
    "    while(Delta.max()/tol > 1.0):\n",
    "        #estimate our error by taking one step of size h vs. two steps of size 1/2\n",
    "        y_2 = rk4_mv_core(dydx,x_i,y_i,nv,h_step) #one big step\n",
    "        y_1 = rk4_mv_core(dydx,x_i,y_i,nv,0.5*h_step) #two small steps\n",
    "        y_11 = rk4_mv_core(dydx,x_i+0.5*h_step,y_1,nv,0.5*h_step)\n",
    "        #compute an error\n",
    "        Delta = np.fabs(y_2 - y_11)\n",
    "        #if the error is too large, take a smaller step\n",
    "        if (Delta.max()/tol > 1.0):\n",
    "            #our error is too large, decrease the step\n",
    "            h_step *= SAFETY * (Delta.max()/tol)**(-0.25)\n",
    "        #check iteration\n",
    "        if (i >= imax):\n",
    "            print(\"Too many iterations in rk4_mv_ad()\")\n",
    "            raise StopIteration(\"Ending after i= \",i)\n",
    "        #iterate\n",
    "        i +=1\n",
    "    #next time, try to take a bigger step\n",
    "    h_new = np.fmin(h_step * (Delta.max()/tol)**(-0.9), h_step*H_NEW_FAC)\n",
    "    \n",
    "    return y_2, h_new, h_step"
   ]
  },
  {
   "cell_type": "markdown",
   "metadata": {},
   "source": [
    "Define a wrapper for RK4"
   ]
  },
  {
   "cell_type": "code",
   "execution_count": null,
   "metadata": {
    "ExecuteTime": {
     "end_time": "2021-11-16T04:04:05.422197Z",
     "start_time": "2021-11-16T04:04:05.407238Z"
    }
   },
   "outputs": [],
   "source": [
    "def rk4_mv(dydx, a, b, y_a, tol):\n",
    "    #a is lower bound\n",
    "    #b is upper bound\n",
    "    #y_a are the boundary conditions\n",
    "    #tol is the tolerance for integrating y\n",
    "    \n",
    "    #define our starting step\n",
    "    xi = a\n",
    "    yi = y_a.copy()\n",
    "    #an initial step size, very small\n",
    "    h = 1.0e-4 * (b-a)\n",
    "    #set max iters\n",
    "    imax = 10000\n",
    "    #set an iteration variable\n",
    "    i = 0\n",
    "    #set the number of coupled ODEs to the size of y_a\n",
    "    nv = len(y_a)\n",
    "    \n",
    "    #set the initial conditions\n",
    "    x = np.full(1,a)\n",
    "    y = np.full((1,nv),y_a)\n",
    "    #set flag\n",
    "    flag = 1\n",
    "    #loop until on the right side\n",
    "    while(flag):\n",
    "        #calc y_i+1\n",
    "        yi_new, h_new, h_step = rk4_mv_ad(dydx,xi,yi,nv,h,tol)\n",
    "        #update the step\n",
    "        h = h_new\n",
    "        #prevent an overshoot\n",
    "        if (xi+h_step>b):\n",
    "            #take a smaller step\n",
    "            h = b-xi\n",
    "            #recalc y_i+1\n",
    "            yi_new, h_new, h_step = rk4_mv_ad(dydx,xi,yi,nv,h,tol)\n",
    "            #break\n",
    "            flag = 0\n",
    "            \n",
    "        #update values\n",
    "        xi += h_step\n",
    "        yi[:] = yi_new[:]\n",
    "        #add the steps to the arrays \n",
    "        x = np.append(x,xi)\n",
    "        y_new = np.zeros((len(x),nv))\n",
    "        y_new[0:len(x)-1,:] = y\n",
    "        y_new[-1,:] = yi[:]\n",
    "        del y\n",
    "        y = y_new\n",
    "        \n",
    "        #prevent too many iterations \n",
    "        if (i >= imax):\n",
    "            print(\"Max iterations reached.\")\n",
    "            raise StopIteration(\"Iteration number = \",i)\n",
    "        #iterate\n",
    "        i += 1\n",
    "        #output some info\n",
    "        s = \"i = %3d\\tx = %9.8f\\th = %9.8f\\tb=%9.8f\" % (i ,xi, h_step, b)\n",
    "        print(s)\n",
    "        #break if new xi == b\n",
    "        if(xi == b):\n",
    "            flag = 0\n",
    "    return x,y\n",
    "        "
   ]
  },
  {
   "cell_type": "markdown",
   "metadata": {},
   "source": [
    "Perform the integration"
   ]
  },
  {
   "cell_type": "code",
   "execution_count": null,
   "metadata": {
    "ExecuteTime": {
     "end_time": "2021-11-16T04:04:05.453115Z",
     "start_time": "2021-11-16T04:04:05.423195Z"
    }
   },
   "outputs": [],
   "source": [
    "a = 0.0\n",
    "b = 2.0 * np.pi\n",
    "y_0 = np.zeros(2)\n",
    "y_0[0] = 0.0\n",
    "y_0[1] = 1.0\n",
    "nv = 2\n",
    "tolerance = 1.0e-6\n",
    "\n",
    "x,y = rk4_mv(dydx, a, b, y_0, tolerance)"
   ]
  },
  {
   "cell_type": "markdown",
   "metadata": {},
   "source": [
    "Plot the result"
   ]
  },
  {
   "cell_type": "code",
   "execution_count": null,
   "metadata": {
    "ExecuteTime": {
     "end_time": "2021-11-16T04:04:05.654084Z",
     "start_time": "2021-11-16T04:04:05.454112Z"
    },
    "scrolled": true
   },
   "outputs": [],
   "source": [
    "plt.plot(x, y[:,0], 'o', label = 'y(x)')\n",
    "plt.plot(x, y[:,1], 'o', label = 'dy/dx(x)')\n",
    "xx = np.linspace(0, 2.0*np.pi, 1000)\n",
    "plt.plot(xx, np.sin(xx), label = 'sin(x)')\n",
    "plt.plot(xx, np.cos(xx), label = 'cos(x)')\n",
    "plt.xlabel('x')\n",
    "plt.ylabel('y, dy/dx')\n",
    "plt.legend(frameon=False)"
   ]
  },
  {
   "cell_type": "markdown",
   "metadata": {},
   "source": [
    "Calculate Error"
   ]
  },
  {
   "cell_type": "code",
   "execution_count": null,
   "metadata": {
    "ExecuteTime": {
     "end_time": "2021-11-16T04:04:41.985394Z",
     "start_time": "2021-11-16T04:04:41.840238Z"
    }
   },
   "outputs": [],
   "source": [
    "y_err = (y[:,0]-np.sin(x))\n",
    "dydx_err = (y[:,1]-np.cos(x))\n",
    "plt.plot(x, y_err, label = \"y(x) error\")\n",
    "plt.plot(x, dydx_err, label = \"dydx(x) error\")\n",
    "plt.legend(frameon = False)"
   ]
  },
  {
   "cell_type": "code",
   "execution_count": null,
   "metadata": {},
   "outputs": [],
   "source": []
  }
 ],
 "metadata": {
  "kernelspec": {
   "display_name": "Python 3",
   "language": "python",
   "name": "python3"
  },
  "language_info": {
   "codemirror_mode": {
    "name": "ipython",
    "version": 3
   },
   "file_extension": ".py",
   "mimetype": "text/x-python",
   "name": "python",
   "nbconvert_exporter": "python",
   "pygments_lexer": "ipython3",
   "version": "3.8.8"
  }
 },
 "nbformat": 4,
 "nbformat_minor": 4
}
