{
 "cells": [
  {
   "cell_type": "code",
   "execution_count": 1,
   "metadata": {},
   "outputs": [],
   "source": [
    "%matplotlib inline\n",
    "import numpy as np\n",
    "import matplotlib.pyplot as plt"
   ]
  },
  {
   "cell_type": "code",
   "execution_count": 2,
   "metadata": {},
   "outputs": [],
   "source": [
    "#declare an integer\n",
    "i=0\n",
    "#declare a float\n",
    "x=119.0"
   ]
  },
  {
   "cell_type": "code",
   "execution_count": 3,
   "metadata": {},
   "outputs": [
    {
     "name": "stdout",
     "output_type": "stream",
     "text": [
      "The final value of x is  4.00e+00\n"
     ]
    }
   ],
   "source": [
    "for i in range (0,119): #initialize a for loop from i=0 to i=119\n",
    "    if(i%2 == 0): #if i is even\n",
    "        x=x+3 #set the new value to x to the old value of x plus 3\n",
    "    elif(i%2 != 0): #if i is odd\n",
    "        x=x-5 #set the new value of x to the old value of x minus 5\n",
    "    i+=1 #increment i \n",
    "print(\"The final value of x is \",\"{:.2e}\".format(x))    #print the final value of x after the \n",
    "                                                        #iterations in scientific notation to 2 decimals\n",
    "x=119.0 #reset x to it's original value (allows us to run the cell mulitiple\n",
    "        #times and still get the same answer)"
   ]
  },
  {
   "cell_type": "code",
   "execution_count": null,
   "metadata": {},
   "outputs": [],
   "source": []
  }
 ],
 "metadata": {
  "kernelspec": {
   "display_name": "Python 3",
   "language": "python",
   "name": "python3"
  },
  "language_info": {
   "codemirror_mode": {
    "name": "ipython",
    "version": 3
   },
   "file_extension": ".py",
   "mimetype": "text/x-python",
   "name": "python",
   "nbconvert_exporter": "python",
   "pygments_lexer": "ipython3",
   "version": "3.8.5"
  }
 },
 "nbformat": 4,
 "nbformat_minor": 4
}
