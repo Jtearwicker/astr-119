{
 "cells": [
  {
   "cell_type": "markdown",
   "metadata": {},
   "source": [
    "# Line Fitting and Root Finding"
   ]
  },
  {
   "cell_type": "code",
   "execution_count": null,
   "metadata": {},
   "outputs": [],
   "source": [
    "%matplotlib inline\n",
    "import numpy as np\n",
    "import matplotlib.pyplot as plt\n",
    "plt.style.use('dark_background')"
   ]
  },
  {
   "cell_type": "markdown",
   "metadata": {},
   "source": [
    "Generate some mock data (a line with gaussian random noise)"
   ]
  },
  {
   "cell_type": "code",
   "execution_count": null,
   "metadata": {},
   "outputs": [],
   "source": [
    "#set a random number seed\n",
    "np.random.seed(119)\n",
    "#set a number of data points\n",
    "npoints=50\n",
    "#set x\n",
    "x=np.linspace(0,10,npoints)\n",
    "#set slope, intercept, and scatter rms\n",
    "m=2.0\n",
    "b=1.0\n",
    "sigma=2.0\n",
    "#generate y points\n",
    "y=m*x+b+np.random.normal(scale=sigma,size=npoints) #scale is rms of distribution\n",
    "y_err=np.full(npoints,sigma) #np.full create an array of size npoints filled withvalue of sigma(2.0)"
   ]
  },
  {
   "cell_type": "markdown",
   "metadata": {},
   "source": [
    "Plot the data"
   ]
  },
  {
   "cell_type": "code",
   "execution_count": null,
   "metadata": {},
   "outputs": [],
   "source": [
    "f=plt.figure(figsize=(7,7))\n",
    "plt.errorbar(x,y,sigma,fmt=\"o\")\n",
    "plt.xlabel=('x')\n",
    "plt.ylabel=('y')"
   ]
  },
  {
   "cell_type": "markdown",
   "metadata": {},
   "source": [
    "## Fitting method #1, Polyfit()"
   ]
  },
  {
   "cell_type": "code",
   "execution_count": null,
   "metadata": {},
   "outputs": [],
   "source": [
    "m_fit,b_fit=np.polyfit(x,y,1,w=1/y_err) #w is the weight, smaller error bars are weighted more\n",
    "print(m_fit,b_fit)\n",
    "y_fit=m_fit*x+b_fit"
   ]
  },
  {
   "cell_type": "code",
   "execution_count": null,
   "metadata": {},
   "outputs": [],
   "source": [
    "f=plt.figure(figsize=(7,7))\n",
    "plt.errorbar(x,y,yerr=y_err,fmt=\"o\",label='data')\n",
    "plt.plot(x,y_fit,label='fit')\n",
    "plt.xlabel=('x')\n",
    "plt.ylabel=('y')\n",
    "plt.legend(loc=2,frameon=\"False\")"
   ]
  },
  {
   "cell_type": "markdown",
   "metadata": {},
   "source": [
    "## Method #2, scipy + optimize"
   ]
  },
  {
   "cell_type": "code",
   "execution_count": null,
   "metadata": {},
   "outputs": [],
   "source": [
    "from scipy import optimize\n",
    "\n",
    "#define the function to fit\n",
    "def f_line(x,m,b):\n",
    "    return m*x+b\n",
    "\n",
    "#perform the fit\n",
    "params, params_cov = optimize.curve_fit(f_line,x,y,sigma=y_err)\n",
    "\n",
    "m_fit_s = params[0]\n",
    "b_fit_s = params[1]\n",
    "print(m_fit_s,b_fit_s)"
   ]
  },
  {
   "cell_type": "code",
   "execution_count": null,
   "metadata": {},
   "outputs": [],
   "source": [
    "f=plt.figure(figsize=(7,7))\n",
    "plt.errorbar(x,y,sigma,fmt=\"o\",label='data')\n",
    "plt.plot(x,y_fit,label='fit')\n",
    "plt.plot(x, m_fit_s * x + b_fit_s, label='fit using scipy')\n",
    "plt.xlabel=('x')\n",
    "plt.ylabel=('y')\n",
    "plt.legend(loc=2,frameon=\"False\")"
   ]
  },
  {
   "cell_type": "markdown",
   "metadata": {},
   "source": [
    "## Perform a more complicated fit"
   ]
  },
  {
   "cell_type": "code",
   "execution_count": null,
   "metadata": {},
   "outputs": [],
   "source": [
    "#redefine x and y \n",
    "npoints=50\n",
    "x=np.linspace(0,2*np.pi,npoints)\n",
    "\n",
    "#make a complicated function\n",
    "a=3.4\n",
    "b=2.1\n",
    "c=0.27\n",
    "d=-1.3\n",
    "sig=0.6\n",
    "\n",
    "y=a*np.sin(b*x+c)+d+np.random.normal(scale=sig,size=npoints)\n",
    "y_err=np.full(npoints,sig)\n",
    "\n",
    "f=plt.figure(figsize=(7,7))\n",
    "plt.errorbar(x,y,yerr=y_err,fmt='o')\n",
    "plt.xlabel('x')\n",
    "plt.ylabel('y')"
   ]
  },
  {
   "cell_type": "code",
   "execution_count": null,
   "metadata": {},
   "outputs": [],
   "source": [
    "def f_curve(x,a,b,c,d):\n",
    "    return a*np.sin(b*x+c)+d\n",
    "\n",
    "#perform the fit\n",
    "params, params_cov = optimize.curve_fit(f_curve,x,y,sigma=y_err,p0=[1.,2.,0.1,-0.1])\n",
    "\n",
    "a_fit=params[0]\n",
    "b_fit=params[1]\n",
    "c_fit=params[2]\n",
    "d_fit=params[3]\n",
    "\n",
    "print(a_fit,b_fit,c_fit,d_fit)\n",
    "\n",
    "y_fit= a_fit*np.sin(b_fit*x+c_fit)+d_fit\n"
   ]
  },
  {
   "cell_type": "code",
   "execution_count": null,
   "metadata": {},
   "outputs": [],
   "source": [
    "#need to finish this cell\n",
    "f=plt.figure(figsize=(7,7))\n",
    "plt.errorbar(x,y,yerr=y_err,fmt='o',label='data')\n",
    "plt.plot(x,y_fit,label='fit')\n",
    "plt.xlabel('x')\n",
    "plt.ylabel('y')\n",
    "plt.legend(loc=0,frameon=False)"
   ]
  },
  {
   "cell_type": "markdown",
   "metadata": {},
   "source": [
    "## Root finding"
   ]
  },
  {
   "cell_type": "markdown",
   "metadata": {},
   "source": [
    "### Bisection Search"
   ]
  },
  {
   "cell_type": "code",
   "execution_count": null,
   "metadata": {},
   "outputs": [],
   "source": [
    "def function_for_roots(x):\n",
    "    a=1.01\n",
    "    b=-3.04\n",
    "    c=2.07\n",
    "    return a*x**2+b*x+c"
   ]
  },
  {
   "cell_type": "code",
   "execution_count": null,
   "metadata": {},
   "outputs": [],
   "source": [
    "#Check if initial bracket is valid\n",
    "def check_initial_values(f,x_min,x_max,tol):\n",
    "    #check initial guesses\n",
    "    y_min=f(x_min)\n",
    "    y_max=f(x_max)\n",
    "    \n",
    "    #check that x_min and x_max contain a zero\n",
    "    if(y_min*y_max>0.0):\n",
    "        print('No zero crossing found in the range =',x_min,x_max)\n",
    "        s=\"func(%f)=%f, func(%f)=%f\" % (x_min,y_min,x_max,y_max)\n",
    "        print(s)\n",
    "        return 0\n",
    "    \n",
    "    #if x_min is a root then return flag==1\n",
    "    if(np.fabs(y_min)<tol):\n",
    "        return 1\n",
    "    "
   ]
  }
 ],
 "metadata": {
  "kernelspec": {
   "display_name": "Python 3",
   "language": "python",
   "name": "python3"
  },
  "language_info": {
   "codemirror_mode": {
    "name": "ipython",
    "version": 3
   },
   "file_extension": ".py",
   "mimetype": "text/x-python",
   "name": "python",
   "nbconvert_exporter": "python",
   "pygments_lexer": "ipython3",
   "version": "3.8.5"
  }
 },
 "nbformat": 4,
 "nbformat_minor": 4
}
