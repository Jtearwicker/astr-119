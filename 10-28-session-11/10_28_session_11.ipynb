{
 "cells": [
  {
   "cell_type": "markdown",
   "metadata": {},
   "source": [
    "## Ordinary Differential Equations"
   ]
  },
  {
   "cell_type": "code",
   "execution_count": null,
   "metadata": {},
   "outputs": [],
   "source": [
    "%matplotlib inline\n",
    "import numpy as np\n",
    "import matplotlib.pyplot as plt\n",
    "plt.style.use(\"dark_background\")"
   ]
  },
  {
   "cell_type": "markdown",
   "metadata": {},
   "source": [
    "#### Runge-Kutta"
   ]
  },
  {
   "cell_type": "code",
   "execution_count": null,
   "metadata": {},
   "outputs": [],
   "source": [
    "def dfdx(x,f):\n",
    "    return x**2 + x"
   ]
  },
  {
   "cell_type": "markdown",
   "metadata": {},
   "source": [
    "Define its integral"
   ]
  },
  {
   "cell_type": "code",
   "execution_count": null,
   "metadata": {},
   "outputs": [],
   "source": [
    "def f_int(x,C):\n",
    "    return (x**3)/3. +0.5*x**2 + C"
   ]
  },
  {
   "cell_type": "markdown",
   "metadata": {},
   "source": [
    "Define the 2nd order RK scheme"
   ]
  },
  {
   "cell_type": "code",
   "execution_count": null,
   "metadata": {},
   "outputs": [],
   "source": [
    "def rk2_core(x_i,f_i,h,g):\n",
    "    #advance f by step h\n",
    "    #half step\n",
    "    x_ipoh = x_i +0.5*h\n",
    "    f_ipoh = f_i + 0.5*h*g(x_i,f_i)\n",
    "    #full step\n",
    "    f_ipo = f_i + h*g(x_ipoh, f_ipoh)\n",
    "    \n",
    "    return f_ipo"
   ]
  },
  {
   "cell_type": "markdown",
   "metadata": {},
   "source": [
    "Define a wrapper routine for RK2"
   ]
  },
  {
   "cell_type": "code",
   "execution_count": null,
   "metadata": {},
   "outputs": [],
   "source": [
    "def rk2(dfdx,a,b,f_a,N):\n",
    "    #dfdx is the derivative of f wrt x\n",
    "    #a is lower bound\n",
    "    #b is upper bound\n",
    "    #f_a is the boundary condition at a\n",
    "    #N is the number of steps\n",
    "    \n",
    "    #define our steps\n",
    "    x = np.linspace(a,b,N)\n",
    "    \n",
    "    #a single step size\n",
    "    h = x[1]-x[0]\n",
    "    \n",
    "    #an array to hold f\n",
    "    f = np.zeros(N,dtype=float)\n",
    "    f[0] = f_a\n",
    "    \n",
    "    #evolve f along x\n",
    "    for i in range(1,N):\n",
    "        f[i] = rk2_core(x[i-1],f[i-1],h,dfdx)\n",
    "        \n",
    "    return x,f"
   ]
  },
  {
   "cell_type": "markdown",
   "metadata": {},
   "source": [
    "Define the 4th order RK method"
   ]
  },
  {
   "cell_type": "code",
   "execution_count": null,
   "metadata": {},
   "outputs": [],
   "source": [
    "def rk4_core(x_i,f_i,h,g):\n",
    "    #advance f by step h\n",
    "    #half step\n",
    "    x_ipoh = x_i +0.5*h\n",
    "    #define x at 1 step\n",
    "    x_ipo = x_1 +h\n",
    "    f_ipoh = f_i + 0.5*h*g(x_i,f_i)\n",
    "    #advance f by a step h\n",
    "    k_1 = h*g(x_i,f_i)\n",
    "    k_2 = h*g(x_ipo,f_i+0.5*k_1)\n",
    "    k_3 = h*g(x_ipoh, f_i+0.5*k_2)\n",
    "    k_4 = h*g(x_ipo, f_i+k_3)\n",
    "    \n",
    "    f_ipo = f_i + (k_1+2*k_2+2*k_3+k_4)/6\n",
    "    \n",
    "    return f_ipo"
   ]
  },
  {
   "cell_type": "markdown",
   "metadata": {},
   "source": [
    "Define a wrapper  for RK4"
   ]
  },
  {
   "cell_type": "code",
   "execution_count": null,
   "metadata": {},
   "outputs": [],
   "source": [
    "def rk4(dfdx,a,b,f_a,N):\n",
    "    #dfdx is the derivative of f wrt x\n",
    "    #a is lower bound\n",
    "    #b is upper bound\n",
    "    #f_a is the boundary condition at a\n",
    "    #N is the number of steps\n",
    "    \n",
    "    #define our steps\n",
    "    x = np.linspace(a,b,N)\n",
    "    \n",
    "    #a single step size\n",
    "    h = x[1]-x[0]\n",
    "    \n",
    "    #an array to hold f\n",
    "    f = np.zeros(N,dtype=float)\n",
    "    f[0] = f_a\n",
    "    \n",
    "    #evolve f along x\n",
    "    for i in range(1,N):\n",
    "        f[i] = rk4_core(x[i-1],f[i-1],h,dfdx)\n",
    "        \n",
    "    return x,f"
   ]
  },
  {
   "cell_type": "markdown",
   "metadata": {},
   "source": [
    "Perform the integration"
   ]
  },
  {
   "cell_type": "code",
   "execution_count": null,
   "metadata": {},
   "outputs": [],
   "source": [
    "a=0\n",
    "b=1\n",
    "f_a=0.0\n",
    "N=10\n",
    "x_2,f_2 = rk2(dfdx,a,b,f_a,N)\n",
    "x_4,f_4 = rk2(dfdx,a,b,f_a,N)\n",
    "x=x_2.copy()\n",
    "plt.plot(x_2,f_2,label='RK2')\n",
    "plt.plot(x_4,f_4,label='RK4')\n",
    "plt.plot(x,f_int(x,f_a),'o',label='Analytic')\n",
    "plt.legend(frameon=False)\n"
   ]
  },
  {
   "cell_type": "markdown",
   "metadata": {},
   "source": [
    "# Runge-Kutta Integration for multiple coupled variables"
   ]
  },
  {
   "cell_type": "code",
   "execution_count": null,
   "metadata": {},
   "outputs": [],
   "source": [
    "def dydx(x,y):\n",
    "    y_derivs = np.zeros(2)\n",
    "    #set dydx=z\n",
    "    y_derivs[0] = y[1]\n",
    "    #set dzdx=-y\n",
    "    y_derivs[1] = -1*y[0]\n",
    "    return y_derivs"
   ]
  },
  {
   "cell_type": "markdown",
   "metadata": {},
   "source": [
    "Define 4th order RK scheme for multiple variables"
   ]
  },
  {
   "cell_type": "code",
   "execution_count": null,
   "metadata": {},
   "outputs": [],
   "source": [
    "def rk4_mv_core(dydx,xi,yi,nv,h):\n",
    "    \n",
    "    #dydx is function of derivatives\n",
    "    #xi is teh value of x at step i\n",
    "    #yi is the array of variables at step i\n",
    "    #nv is ...\n",
    "\n",
    "    k1 = np.zeros(nv)\n",
    "    k2 = np.zeros(nv)\n",
    "    k3 = np.zeros(nv)\n",
    "    k4 = np.zeros(nv)\n",
    "    #half step\n",
    "    x_ipoh = x_i +0.5*h\n",
    "    #define x at 1 step\n",
    "    x_ipo = x_1 +h\n",
    "    y_temp = np.zeros(nv)\n",
    "   \n",
    "    #advance y[] by a step h\n",
    "    y_derivs = dydx(xi,yi)\n",
    "    k1[:] = h*y_derivs[:]\n",
    "    \n",
    "    #get k2 values\n",
    "  \n",
    "    \n",
    "    return f_ipo"
   ]
  }
 ],
 "metadata": {
  "kernelspec": {
   "display_name": "Python 3",
   "language": "python",
   "name": "python3"
  },
  "language_info": {
   "codemirror_mode": {
    "name": "ipython",
    "version": 3
   },
   "file_extension": ".py",
   "mimetype": "text/x-python",
   "name": "python",
   "nbconvert_exporter": "python",
   "pygments_lexer": "ipython3",
   "version": "3.8.5"
  }
 },
 "nbformat": 4,
 "nbformat_minor": 4
}
