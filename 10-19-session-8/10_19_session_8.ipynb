{
 "cells": [
  {
   "cell_type": "markdown",
   "metadata": {},
   "source": [
    "# Root Finding: Bisection and Newton-Raphson"
   ]
  },
  {
   "cell_type": "code",
   "execution_count": 1,
   "metadata": {},
   "outputs": [],
   "source": [
    "%matplotlib inline\n",
    "import numpy as np\n",
    "import matplotlib.pyplot as plt\n",
    "plt.style.use('dark_background')"
   ]
  },
  {
   "cell_type": "code",
   "execution_count": 2,
   "metadata": {},
   "outputs": [],
   "source": [
    "#define a function to find the roots of\n",
    "def function_for_roots(x):\n",
    "    a=1.01\n",
    "    b=-3.04\n",
    "    c=2.07\n",
    "    return a*x**2+b*x+c"
   ]
  },
  {
   "cell_type": "code",
   "execution_count": 3,
   "metadata": {},
   "outputs": [],
   "source": [
    "#validate our initial bracket\n",
    "def check_initial_value(f,m_min,x_max,tol):\n",
    "    \n",
    "    #check initial guess\n",
    "    y_min=f(x_min)\n",
    "    y_max=f(x_max)\n",
    "    \n",
    "    #check that xmin and xmax bracket a root (multiply to (-))\n",
    "    if(y_min*y_max>0.0):\n",
    "        print(\"No zero crossing found in the range \",x_min,\"to \",x_max)\n",
    "        s=\"f(%f)=%f,f(%f=%f)\" % (x_min,y_min,x_max,y_max)\n",
    "        print(s)\n",
    "        return 0\n",
    "    \n",
    "    #if xmin is a root, then return flag==1\n",
    "    if(np.fabs(y_min)<tol):\n",
    "        return 1\n",
    "    #if xmax is a root, then return flag==2\n",
    "    if(np.fabs(y_max)<tol):\n",
    "        return 2\n",
    "    #if we reach this point, the bracket is valid\n",
    "    return 3"
   ]
  },
  {
   "cell_type": "code",
   "execution_count": 4,
   "metadata": {},
   "outputs": [],
   "source": [
    "def bisection_root_finding(f,x_min_start,x_max_start,tol):\n",
    "    \n",
    "    #this fucntion uses bisection search to find a root of f\n",
    "    \n",
    "    x_min=x_min_start\n",
    "    x_max=x_max_start\n",
    "    x_mid=0.0\n",
    "    \n",
    "    y_min=f(x_min)\n",
    "    y_max=f(x_max)\n",
    "    y_mid=0.0\n",
    "    \n",
    "    max_iters=10000\n",
    "    i=0\n",
    "    \n",
    "    #check the initial values\n",
    "    flag=check_initial_values(f,x_min,x_max,tol)\n",
    "    \n",
    "    if(flag==0):\n",
    "        print(\"Error in bisection_root_finding\")\n",
    "        raise ValueError(\"Initial values invalid \",x_min,m_max)\n",
    "    elif(flag==1):\n",
    "        #we got lucky\n",
    "        return x_min\n",
    "    elif(flag==2):\n",
    "        return x_max\n",
    "    \n",
    "    #if we reach here, then conduct the search\n",
    "    \n",
    "    #set a flag\n",
    "    while(flag):\n",
    "        #set our point\n",
    "        x_mid=0.5*(x_min+x_max)\n",
    "        y_mid=f(x_mid)\n",
    "        \n",
    "    #check if x_mid is a root\n",
    "    if(np.fabs(y_mid)<tol):\n",
    "        flag=0\n",
    "    else:\n",
    "        #x_mid is not a root\n",
    "        #if the product of the function at the midpoint and at one of the end points is greater than 0, replace this endpoint\n",
    "        if(f(x_min)*f(x_mid)>0):\n",
    "            #replace x_min with x_mid\n",
    "            x_min=x_mid\n",
    "        else:\n",
    "            #replace x_max with x_mid\n",
    "            x_max=x_mid\n",
    "    #print out the iteration\n",
    "    print(x_min,f(x_min),x_max,f(x_max))\n",
    "    \n",
    "    #count the iteration\n",
    "    i+=1\n",
    "    \n",
    "    #if we have surpassed max_iters, exit\n",
    "    if(i>=max_iters):\n",
    "        print(\"Exceeded max number of iterations \",i)\n",
    "        s=\"Min bracket f(%f) = %f\" % (x_min,f(x_min))\n",
    "        print(s)\n",
    "        s=\"Max bracket f(%f) = %f\" % (x_max,f(x_max))\n",
    "        print(s)\n",
    "        s=\"Mid bracket f(%f) = %f\" % (x_mid,f(x_mid))\n",
    "        print(s)\n",
    "        raise StopIteration('Stopping iterations after ', i)\n",
    "        \n",
    "    return x_mid"
   ]
  },
  {
   "cell_type": "code",
   "execution_count": 5,
   "metadata": {},
   "outputs": [
    {
     "name": "stdout",
     "output_type": "stream",
     "text": [
      "0.0 2.07\n",
      "1.5 -0.2175000000000007\n"
     ]
    },
    {
     "ename": "NameError",
     "evalue": "name 'check_initial_values' is not defined",
     "output_type": "error",
     "traceback": [
      "\u001b[1;31m---------------------------------------------------------------------------\u001b[0m",
      "\u001b[1;31mNameError\u001b[0m                                 Traceback (most recent call last)",
      "\u001b[1;32m<ipython-input-5-c3990490faa6>\u001b[0m in \u001b[0;36m<module>\u001b[1;34m\u001b[0m\n\u001b[0;32m      6\u001b[0m \u001b[0mprint\u001b[0m\u001b[1;33m(\u001b[0m\u001b[0mx_max\u001b[0m\u001b[1;33m,\u001b[0m\u001b[0mfunction_for_roots\u001b[0m\u001b[1;33m(\u001b[0m\u001b[0mx_max\u001b[0m\u001b[1;33m)\u001b[0m\u001b[1;33m)\u001b[0m\u001b[1;33m\u001b[0m\u001b[1;33m\u001b[0m\u001b[0m\n\u001b[0;32m      7\u001b[0m \u001b[1;33m\u001b[0m\u001b[0m\n\u001b[1;32m----> 8\u001b[1;33m \u001b[0mx_root\u001b[0m \u001b[1;33m=\u001b[0m \u001b[0mbisection_root_finding\u001b[0m\u001b[1;33m(\u001b[0m\u001b[0mfunction_for_roots\u001b[0m\u001b[1;33m,\u001b[0m\u001b[0mx_min\u001b[0m\u001b[1;33m,\u001b[0m\u001b[0mx_max\u001b[0m\u001b[1;33m,\u001b[0m\u001b[0mtolerance\u001b[0m\u001b[1;33m)\u001b[0m\u001b[1;33m\u001b[0m\u001b[1;33m\u001b[0m\u001b[0m\n\u001b[0m\u001b[0;32m      9\u001b[0m \u001b[0my_root\u001b[0m \u001b[1;33m=\u001b[0m \u001b[0mfunction_for_roots\u001b[0m\u001b[1;33m(\u001b[0m\u001b[0mx_root\u001b[0m\u001b[1;33m)\u001b[0m\u001b[1;33m\u001b[0m\u001b[1;33m\u001b[0m\u001b[0m\n\u001b[0;32m     10\u001b[0m \u001b[1;33m\u001b[0m\u001b[0m\n",
      "\u001b[1;32m<ipython-input-4-68d722fe3b20>\u001b[0m in \u001b[0;36mbisection_root_finding\u001b[1;34m(f, x_min_start, x_max_start, tol)\u001b[0m\n\u001b[0;32m     15\u001b[0m \u001b[1;33m\u001b[0m\u001b[0m\n\u001b[0;32m     16\u001b[0m     \u001b[1;31m#check the initial values\u001b[0m\u001b[1;33m\u001b[0m\u001b[1;33m\u001b[0m\u001b[1;33m\u001b[0m\u001b[0m\n\u001b[1;32m---> 17\u001b[1;33m     \u001b[0mflag\u001b[0m\u001b[1;33m=\u001b[0m\u001b[0mcheck_initial_values\u001b[0m\u001b[1;33m(\u001b[0m\u001b[0mf\u001b[0m\u001b[1;33m,\u001b[0m\u001b[0mx_min\u001b[0m\u001b[1;33m,\u001b[0m\u001b[0mx_max\u001b[0m\u001b[1;33m,\u001b[0m\u001b[0mtol\u001b[0m\u001b[1;33m)\u001b[0m\u001b[1;33m\u001b[0m\u001b[1;33m\u001b[0m\u001b[0m\n\u001b[0m\u001b[0;32m     18\u001b[0m \u001b[1;33m\u001b[0m\u001b[0m\n\u001b[0;32m     19\u001b[0m     \u001b[1;32mif\u001b[0m\u001b[1;33m(\u001b[0m\u001b[0mflag\u001b[0m\u001b[1;33m==\u001b[0m\u001b[1;36m0\u001b[0m\u001b[1;33m)\u001b[0m\u001b[1;33m:\u001b[0m\u001b[1;33m\u001b[0m\u001b[1;33m\u001b[0m\u001b[0m\n",
      "\u001b[1;31mNameError\u001b[0m: name 'check_initial_values' is not defined"
     ]
    }
   ],
   "source": [
    "x_min=0.0\n",
    "x_max=1.5\n",
    "tolerance=1.0e-6\n",
    "\n",
    "print(x_min,function_for_roots(x_min))\n",
    "print(x_max,function_for_roots(x_max))\n",
    "\n",
    "x_root = bisection_root_finding(function_for_roots,x_min,x_max,tolerance)\n",
    "y_root = function_for_roots(x_root)\n",
    "\n",
    "s=\"Root found within y(%f) = %f\" % (x_root,y_root)\n",
    "print(s)"
   ]
  },
  {
   "cell_type": "markdown",
   "metadata": {},
   "source": [
    "## Newton-Raphson"
   ]
  },
  {
   "cell_type": "code",
   "execution_count": 7,
   "metadata": {},
   "outputs": [],
   "source": [
    "#define a function to find the roots of\n",
    "def function_for_roots(x):\n",
    "    a=1.01\n",
    "    b=-3.04\n",
    "    c=2.07\n",
    "    return a*x**2+b*x+c"
   ]
  },
  {
   "cell_type": "code",
   "execution_count": 9,
   "metadata": {},
   "outputs": [],
   "source": [
    "def derivative_for_root(x):\n",
    "    a=1.01\n",
    "    b=-3.04\n",
    "    return 2*a*x+b"
   ]
  },
  {
   "cell_type": "code",
   "execution_count": 11,
   "metadata": {},
   "outputs": [],
   "source": [
    "def newton_raphson_root_finding(f,dfdx,x_start,tol):\n",
    "    #set a flag\n",
    "    flag=1\n",
    "    \n",
    "    #define the new and old guess for the root\n",
    "    x_old=x_start\n",
    "    x_new=0.0\n",
    "    y_new=0.0\n",
    "    \n",
    "    #start the loop\n",
    "    while(flag):\n",
    "        #make a new guess\n",
    "        x_new=x_old-f(x_old)/dfdx(x_old)\n",
    "        \n",
    "        #print the iteration\n",
    "        print(x_new,x_old,f(x_old),dfdx(x_old))\n",
    "        \n",
    "        #if the abs of the new function value is < tol, then stop\n",
    "        y_new=f(x_new)\n",
    "        if(np.fabs(y_new)<tol):\n",
    "            flag=0 #stop iters\n",
    "        else:\n",
    "            #save the old result\n",
    "            x_old=x_new\n",
    "            #increment the iteration\n",
    "            i+=1\n",
    "            \n",
    "        if(i>=max_iters):\n",
    "            print(\"Max iters reached\")\n",
    "            raise StopIteration('Stopping iterations after ',i)\n",
    "    return x_new"
   ]
  },
  {
   "cell_type": "code",
   "execution_count": 12,
   "metadata": {},
   "outputs": [
    {
     "name": "stdout",
     "output_type": "stream",
     "text": [
      "0.5 0.8024999999999998\n",
      "0.8953201970443347 0.5 0.8024999999999998 -2.0300000000000002\n"
     ]
    },
    {
     "ename": "UnboundLocalError",
     "evalue": "local variable 'i' referenced before assignment",
     "output_type": "error",
     "traceback": [
      "\u001b[1;31m---------------------------------------------------------------------------\u001b[0m",
      "\u001b[1;31mUnboundLocalError\u001b[0m                         Traceback (most recent call last)",
      "\u001b[1;32m<ipython-input-12-86d8753ffadc>\u001b[0m in \u001b[0;36m<module>\u001b[1;34m\u001b[0m\n\u001b[0;32m      5\u001b[0m \u001b[0mprint\u001b[0m\u001b[1;33m(\u001b[0m\u001b[0mx_start\u001b[0m\u001b[1;33m,\u001b[0m\u001b[0mfunction_for_roots\u001b[0m\u001b[1;33m(\u001b[0m\u001b[0mx_start\u001b[0m\u001b[1;33m)\u001b[0m\u001b[1;33m)\u001b[0m\u001b[1;33m\u001b[0m\u001b[1;33m\u001b[0m\u001b[0m\n\u001b[0;32m      6\u001b[0m \u001b[1;33m\u001b[0m\u001b[0m\n\u001b[1;32m----> 7\u001b[1;33m \u001b[0mx_root\u001b[0m \u001b[1;33m=\u001b[0m \u001b[0mnewton_raphson_root_finding\u001b[0m\u001b[1;33m(\u001b[0m\u001b[0mfunction_for_roots\u001b[0m\u001b[1;33m,\u001b[0m\u001b[0mderivative_for_root\u001b[0m\u001b[1;33m,\u001b[0m\u001b[0mx_start\u001b[0m\u001b[1;33m,\u001b[0m\u001b[0mtolerance\u001b[0m\u001b[1;33m)\u001b[0m\u001b[1;33m\u001b[0m\u001b[1;33m\u001b[0m\u001b[0m\n\u001b[0m\u001b[0;32m      8\u001b[0m \u001b[0my_root\u001b[0m \u001b[1;33m=\u001b[0m \u001b[0mfunction_for_roots\u001b[0m\u001b[1;33m(\u001b[0m\u001b[0mx_root\u001b[0m\u001b[1;33m)\u001b[0m\u001b[1;33m\u001b[0m\u001b[1;33m\u001b[0m\u001b[0m\n\u001b[0;32m      9\u001b[0m \u001b[1;33m\u001b[0m\u001b[0m\n",
      "\u001b[1;32m<ipython-input-11-8d779c1f7d4b>\u001b[0m in \u001b[0;36mnewton_raphson_root_finding\u001b[1;34m(f, dfdx, x_start, tol)\u001b[0m\n\u001b[0;32m     24\u001b[0m             \u001b[0mx_old\u001b[0m\u001b[1;33m=\u001b[0m\u001b[0mx_new\u001b[0m\u001b[1;33m\u001b[0m\u001b[1;33m\u001b[0m\u001b[0m\n\u001b[0;32m     25\u001b[0m             \u001b[1;31m#increment the iteration\u001b[0m\u001b[1;33m\u001b[0m\u001b[1;33m\u001b[0m\u001b[1;33m\u001b[0m\u001b[0m\n\u001b[1;32m---> 26\u001b[1;33m             \u001b[0mi\u001b[0m\u001b[1;33m+=\u001b[0m\u001b[1;36m1\u001b[0m\u001b[1;33m\u001b[0m\u001b[1;33m\u001b[0m\u001b[0m\n\u001b[0m\u001b[0;32m     27\u001b[0m \u001b[1;33m\u001b[0m\u001b[0m\n\u001b[0;32m     28\u001b[0m         \u001b[1;32mif\u001b[0m\u001b[1;33m(\u001b[0m\u001b[0mi\u001b[0m\u001b[1;33m>=\u001b[0m\u001b[0mmax_iters\u001b[0m\u001b[1;33m)\u001b[0m\u001b[1;33m:\u001b[0m\u001b[1;33m\u001b[0m\u001b[1;33m\u001b[0m\u001b[0m\n",
      "\u001b[1;31mUnboundLocalError\u001b[0m: local variable 'i' referenced before assignment"
     ]
    }
   ],
   "source": [
    "x_start=0.5\n",
    "tolerance=1.0e-6\n",
    "\n",
    "#print the initial guess\n",
    "print(x_start,function_for_roots(x_start))\n",
    "\n",
    "x_root = newton_raphson_root_finding(function_for_roots,derivative_for_root,x_start,tolerance)\n",
    "y_root = function_for_roots(x_root)\n",
    "\n",
    "s=\"Root foudn within y(%f) = %f\" % (x_root,y_root)\n",
    "print(s)"
   ]
  },
  {
   "cell_type": "code",
   "execution_count": null,
   "metadata": {},
   "outputs": [],
   "source": []
  }
 ],
 "metadata": {
  "kernelspec": {
   "display_name": "Python 3",
   "language": "python",
   "name": "python3"
  },
  "language_info": {
   "codemirror_mode": {
    "name": "ipython",
    "version": 3
   },
   "file_extension": ".py",
   "mimetype": "text/x-python",
   "name": "python",
   "nbconvert_exporter": "python",
   "pygments_lexer": "ipython3",
   "version": "3.8.5"
  }
 },
 "nbformat": 4,
 "nbformat_minor": 4
}
